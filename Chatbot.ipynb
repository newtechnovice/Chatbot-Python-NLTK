{
  "nbformat": 4,
  "nbformat_minor": 0,
  "metadata": {
    "colab": {
      "name": "Chatbot.ipynb",
      "provenance": [],
      "authorship_tag": "ABX9TyODWZ3YqlRQc4A0jtf/hi5d"
    },
    "kernelspec": {
      "name": "python3",
      "display_name": "Python 3"
    }
  },
  "cells": [
    {
      "cell_type": "markdown",
      "metadata": {
        "id": "FevRVh1Sqe3V"
      },
      "source": [
        "# 1. Import packages and load json file\r\n",
        "\r\n",
        "import the necessary packages:\r\n",
        "\r\n",
        "* import nltk\r\n",
        "* from nltk.stem import WordNetLemmatizer\r\n",
        "* lemmatizer = WordNetLemmatizer()\r\n",
        "* import json\r\n",
        "* import pickle\r\n",
        "\r\n",
        "\r\n",
        "* import numpy as np\r\n",
        "* from keras.models import Sequential\r\n",
        "* from keras.layers import Dense, Activation, Dropout\r\n",
        "* from keras.optimizers import SGD\r\n",
        "* import random\r\n"
      ]
    },
    {
      "cell_type": "code",
      "metadata": {
        "id": "fQ9LeXmNmxl8"
      },
      "source": [
        "import nltk\r\n",
        "from nltk.stem import WordNetLemmatizer \r\n",
        "lemmatizer = WordNetLemmatizer()\r\n",
        "import json\r\n",
        "import pickle"
      ],
      "execution_count": 18,
      "outputs": []
    },
    {
      "cell_type": "code",
      "metadata": {
        "id": "UUnKX27km0S3"
      },
      "source": [
        "import numpy as np\r\n",
        "from keras.models import Sequential\r\n",
        "from keras.layers import Dense, Activation, Dropout\r\n",
        "from keras.optimizers import SGD\r\n",
        "import random"
      ],
      "execution_count": 19,
      "outputs": []
    },
    {
      "cell_type": "code",
      "metadata": {
        "colab": {
          "resources": {
            "http://localhost:8080/nbextensions/google.colab/files.js": {
              "data": "Ly8gQ29weXJpZ2h0IDIwMTcgR29vZ2xlIExMQwovLwovLyBMaWNlbnNlZCB1bmRlciB0aGUgQXBhY2hlIExpY2Vuc2UsIFZlcnNpb24gMi4wICh0aGUgIkxpY2Vuc2UiKTsKLy8geW91IG1heSBub3QgdXNlIHRoaXMgZmlsZSBleGNlcHQgaW4gY29tcGxpYW5jZSB3aXRoIHRoZSBMaWNlbnNlLgovLyBZb3UgbWF5IG9idGFpbiBhIGNvcHkgb2YgdGhlIExpY2Vuc2UgYXQKLy8KLy8gICAgICBodHRwOi8vd3d3LmFwYWNoZS5vcmcvbGljZW5zZXMvTElDRU5TRS0yLjAKLy8KLy8gVW5sZXNzIHJlcXVpcmVkIGJ5IGFwcGxpY2FibGUgbGF3IG9yIGFncmVlZCB0byBpbiB3cml0aW5nLCBzb2Z0d2FyZQovLyBkaXN0cmlidXRlZCB1bmRlciB0aGUgTGljZW5zZSBpcyBkaXN0cmlidXRlZCBvbiBhbiAiQVMgSVMiIEJBU0lTLAovLyBXSVRIT1VUIFdBUlJBTlRJRVMgT1IgQ09ORElUSU9OUyBPRiBBTlkgS0lORCwgZWl0aGVyIGV4cHJlc3Mgb3IgaW1wbGllZC4KLy8gU2VlIHRoZSBMaWNlbnNlIGZvciB0aGUgc3BlY2lmaWMgbGFuZ3VhZ2UgZ292ZXJuaW5nIHBlcm1pc3Npb25zIGFuZAovLyBsaW1pdGF0aW9ucyB1bmRlciB0aGUgTGljZW5zZS4KCi8qKgogKiBAZmlsZW92ZXJ2aWV3IEhlbHBlcnMgZm9yIGdvb2dsZS5jb2xhYiBQeXRob24gbW9kdWxlLgogKi8KKGZ1bmN0aW9uKHNjb3BlKSB7CmZ1bmN0aW9uIHNwYW4odGV4dCwgc3R5bGVBdHRyaWJ1dGVzID0ge30pIHsKICBjb25zdCBlbGVtZW50ID0gZG9jdW1lbnQuY3JlYXRlRWxlbWVudCgnc3BhbicpOwogIGVsZW1lbnQudGV4dENvbnRlbnQgPSB0ZXh0OwogIGZvciAoY29uc3Qga2V5IG9mIE9iamVjdC5rZXlzKHN0eWxlQXR0cmlidXRlcykpIHsKICAgIGVsZW1lbnQuc3R5bGVba2V5XSA9IHN0eWxlQXR0cmlidXRlc1trZXldOwogIH0KICByZXR1cm4gZWxlbWVudDsKfQoKLy8gTWF4IG51bWJlciBvZiBieXRlcyB3aGljaCB3aWxsIGJlIHVwbG9hZGVkIGF0IGEgdGltZS4KY29uc3QgTUFYX1BBWUxPQURfU0laRSA9IDEwMCAqIDEwMjQ7CgpmdW5jdGlvbiBfdXBsb2FkRmlsZXMoaW5wdXRJZCwgb3V0cHV0SWQpIHsKICBjb25zdCBzdGVwcyA9IHVwbG9hZEZpbGVzU3RlcChpbnB1dElkLCBvdXRwdXRJZCk7CiAgY29uc3Qgb3V0cHV0RWxlbWVudCA9IGRvY3VtZW50LmdldEVsZW1lbnRCeUlkKG91dHB1dElkKTsKICAvLyBDYWNoZSBzdGVwcyBvbiB0aGUgb3V0cHV0RWxlbWVudCB0byBtYWtlIGl0IGF2YWlsYWJsZSBmb3IgdGhlIG5leHQgY2FsbAogIC8vIHRvIHVwbG9hZEZpbGVzQ29udGludWUgZnJvbSBQeXRob24uCiAgb3V0cHV0RWxlbWVudC5zdGVwcyA9IHN0ZXBzOwoKICByZXR1cm4gX3VwbG9hZEZpbGVzQ29udGludWUob3V0cHV0SWQpOwp9CgovLyBUaGlzIGlzIHJvdWdobHkgYW4gYXN5bmMgZ2VuZXJhdG9yIChub3Qgc3VwcG9ydGVkIGluIHRoZSBicm93c2VyIHlldCksCi8vIHdoZXJlIHRoZXJlIGFyZSBtdWx0aXBsZSBhc3luY2hyb25vdXMgc3RlcHMgYW5kIHRoZSBQeXRob24gc2lkZSBpcyBnb2luZwovLyB0byBwb2xsIGZvciBjb21wbGV0aW9uIG9mIGVhY2ggc3RlcC4KLy8gVGhpcyB1c2VzIGEgUHJvbWlzZSB0byBibG9jayB0aGUgcHl0aG9uIHNpZGUgb24gY29tcGxldGlvbiBvZiBlYWNoIHN0ZXAsCi8vIHRoZW4gcGFzc2VzIHRoZSByZXN1bHQgb2YgdGhlIHByZXZpb3VzIHN0ZXAgYXMgdGhlIGlucHV0IHRvIHRoZSBuZXh0IHN0ZXAuCmZ1bmN0aW9uIF91cGxvYWRGaWxlc0NvbnRpbnVlKG91dHB1dElkKSB7CiAgY29uc3Qgb3V0cHV0RWxlbWVudCA9IGRvY3VtZW50LmdldEVsZW1lbnRCeUlkKG91dHB1dElkKTsKICBjb25zdCBzdGVwcyA9IG91dHB1dEVsZW1lbnQuc3RlcHM7CgogIGNvbnN0IG5leHQgPSBzdGVwcy5uZXh0KG91dHB1dEVsZW1lbnQubGFzdFByb21pc2VWYWx1ZSk7CiAgcmV0dXJuIFByb21pc2UucmVzb2x2ZShuZXh0LnZhbHVlLnByb21pc2UpLnRoZW4oKHZhbHVlKSA9PiB7CiAgICAvLyBDYWNoZSB0aGUgbGFzdCBwcm9taXNlIHZhbHVlIHRvIG1ha2UgaXQgYXZhaWxhYmxlIHRvIHRoZSBuZXh0CiAgICAvLyBzdGVwIG9mIHRoZSBnZW5lcmF0b3IuCiAgICBvdXRwdXRFbGVtZW50Lmxhc3RQcm9taXNlVmFsdWUgPSB2YWx1ZTsKICAgIHJldHVybiBuZXh0LnZhbHVlLnJlc3BvbnNlOwogIH0pOwp9CgovKioKICogR2VuZXJhdG9yIGZ1bmN0aW9uIHdoaWNoIGlzIGNhbGxlZCBiZXR3ZWVuIGVhY2ggYXN5bmMgc3RlcCBvZiB0aGUgdXBsb2FkCiAqIHByb2Nlc3MuCiAqIEBwYXJhbSB7c3RyaW5nfSBpbnB1dElkIEVsZW1lbnQgSUQgb2YgdGhlIGlucHV0IGZpbGUgcGlja2VyIGVsZW1lbnQuCiAqIEBwYXJhbSB7c3RyaW5nfSBvdXRwdXRJZCBFbGVtZW50IElEIG9mIHRoZSBvdXRwdXQgZGlzcGxheS4KICogQHJldHVybiB7IUl0ZXJhYmxlPCFPYmplY3Q+fSBJdGVyYWJsZSBvZiBuZXh0IHN0ZXBzLgogKi8KZnVuY3Rpb24qIHVwbG9hZEZpbGVzU3RlcChpbnB1dElkLCBvdXRwdXRJZCkgewogIGNvbnN0IGlucHV0RWxlbWVudCA9IGRvY3VtZW50LmdldEVsZW1lbnRCeUlkKGlucHV0SWQpOwogIGlucHV0RWxlbWVudC5kaXNhYmxlZCA9IGZhbHNlOwoKICBjb25zdCBvdXRwdXRFbGVtZW50ID0gZG9jdW1lbnQuZ2V0RWxlbWVudEJ5SWQob3V0cHV0SWQpOwogIG91dHB1dEVsZW1lbnQuaW5uZXJIVE1MID0gJyc7CgogIGNvbnN0IHBpY2tlZFByb21pc2UgPSBuZXcgUHJvbWlzZSgocmVzb2x2ZSkgPT4gewogICAgaW5wdXRFbGVtZW50LmFkZEV2ZW50TGlzdGVuZXIoJ2NoYW5nZScsIChlKSA9PiB7CiAgICAgIHJlc29sdmUoZS50YXJnZXQuZmlsZXMpOwogICAgfSk7CiAgfSk7CgogIGNvbnN0IGNhbmNlbCA9IGRvY3VtZW50LmNyZWF0ZUVsZW1lbnQoJ2J1dHRvbicpOwogIGlucHV0RWxlbWVudC5wYXJlbnRFbGVtZW50LmFwcGVuZENoaWxkKGNhbmNlbCk7CiAgY2FuY2VsLnRleHRDb250ZW50ID0gJ0NhbmNlbCB1cGxvYWQnOwogIGNvbnN0IGNhbmNlbFByb21pc2UgPSBuZXcgUHJvbWlzZSgocmVzb2x2ZSkgPT4gewogICAgY2FuY2VsLm9uY2xpY2sgPSAoKSA9PiB7CiAgICAgIHJlc29sdmUobnVsbCk7CiAgICB9OwogIH0pOwoKICAvLyBXYWl0IGZvciB0aGUgdXNlciB0byBwaWNrIHRoZSBmaWxlcy4KICBjb25zdCBmaWxlcyA9IHlpZWxkIHsKICAgIHByb21pc2U6IFByb21pc2UucmFjZShbcGlja2VkUHJvbWlzZSwgY2FuY2VsUHJvbWlzZV0pLAogICAgcmVzcG9uc2U6IHsKICAgICAgYWN0aW9uOiAnc3RhcnRpbmcnLAogICAgfQogIH07CgogIGNhbmNlbC5yZW1vdmUoKTsKCiAgLy8gRGlzYWJsZSB0aGUgaW5wdXQgZWxlbWVudCBzaW5jZSBmdXJ0aGVyIHBpY2tzIGFyZSBub3QgYWxsb3dlZC4KICBpbnB1dEVsZW1lbnQuZGlzYWJsZWQgPSB0cnVlOwoKICBpZiAoIWZpbGVzKSB7CiAgICByZXR1cm4gewogICAgICByZXNwb25zZTogewogICAgICAgIGFjdGlvbjogJ2NvbXBsZXRlJywKICAgICAgfQogICAgfTsKICB9CgogIGZvciAoY29uc3QgZmlsZSBvZiBmaWxlcykgewogICAgY29uc3QgbGkgPSBkb2N1bWVudC5jcmVhdGVFbGVtZW50KCdsaScpOwogICAgbGkuYXBwZW5kKHNwYW4oZmlsZS5uYW1lLCB7Zm9udFdlaWdodDogJ2JvbGQnfSkpOwogICAgbGkuYXBwZW5kKHNwYW4oCiAgICAgICAgYCgke2ZpbGUudHlwZSB8fCAnbi9hJ30pIC0gJHtmaWxlLnNpemV9IGJ5dGVzLCBgICsKICAgICAgICBgbGFzdCBtb2RpZmllZDogJHsKICAgICAgICAgICAgZmlsZS5sYXN0TW9kaWZpZWREYXRlID8gZmlsZS5sYXN0TW9kaWZpZWREYXRlLnRvTG9jYWxlRGF0ZVN0cmluZygpIDoKICAgICAgICAgICAgICAgICAgICAgICAgICAgICAgICAgICAgJ24vYSd9IC0gYCkpOwogICAgY29uc3QgcGVyY2VudCA9IHNwYW4oJzAlIGRvbmUnKTsKICAgIGxpLmFwcGVuZENoaWxkKHBlcmNlbnQpOwoKICAgIG91dHB1dEVsZW1lbnQuYXBwZW5kQ2hpbGQobGkpOwoKICAgIGNvbnN0IGZpbGVEYXRhUHJvbWlzZSA9IG5ldyBQcm9taXNlKChyZXNvbHZlKSA9PiB7CiAgICAgIGNvbnN0IHJlYWRlciA9IG5ldyBGaWxlUmVhZGVyKCk7CiAgICAgIHJlYWRlci5vbmxvYWQgPSAoZSkgPT4gewogICAgICAgIHJlc29sdmUoZS50YXJnZXQucmVzdWx0KTsKICAgICAgfTsKICAgICAgcmVhZGVyLnJlYWRBc0FycmF5QnVmZmVyKGZpbGUpOwogICAgfSk7CiAgICAvLyBXYWl0IGZvciB0aGUgZGF0YSB0byBiZSByZWFkeS4KICAgIGxldCBmaWxlRGF0YSA9IHlpZWxkIHsKICAgICAgcHJvbWlzZTogZmlsZURhdGFQcm9taXNlLAogICAgICByZXNwb25zZTogewogICAgICAgIGFjdGlvbjogJ2NvbnRpbnVlJywKICAgICAgfQogICAgfTsKCiAgICAvLyBVc2UgYSBjaHVua2VkIHNlbmRpbmcgdG8gYXZvaWQgbWVzc2FnZSBzaXplIGxpbWl0cy4gU2VlIGIvNjIxMTU2NjAuCiAgICBsZXQgcG9zaXRpb24gPSAwOwogICAgd2hpbGUgKHBvc2l0aW9uIDwgZmlsZURhdGEuYnl0ZUxlbmd0aCkgewogICAgICBjb25zdCBsZW5ndGggPSBNYXRoLm1pbihmaWxlRGF0YS5ieXRlTGVuZ3RoIC0gcG9zaXRpb24sIE1BWF9QQVlMT0FEX1NJWkUpOwogICAgICBjb25zdCBjaHVuayA9IG5ldyBVaW50OEFycmF5KGZpbGVEYXRhLCBwb3NpdGlvbiwgbGVuZ3RoKTsKICAgICAgcG9zaXRpb24gKz0gbGVuZ3RoOwoKICAgICAgY29uc3QgYmFzZTY0ID0gYnRvYShTdHJpbmcuZnJvbUNoYXJDb2RlLmFwcGx5KG51bGwsIGNodW5rKSk7CiAgICAgIHlpZWxkIHsKICAgICAgICByZXNwb25zZTogewogICAgICAgICAgYWN0aW9uOiAnYXBwZW5kJywKICAgICAgICAgIGZpbGU6IGZpbGUubmFtZSwKICAgICAgICAgIGRhdGE6IGJhc2U2NCwKICAgICAgICB9LAogICAgICB9OwogICAgICBwZXJjZW50LnRleHRDb250ZW50ID0KICAgICAgICAgIGAke01hdGgucm91bmQoKHBvc2l0aW9uIC8gZmlsZURhdGEuYnl0ZUxlbmd0aCkgKiAxMDApfSUgZG9uZWA7CiAgICB9CiAgfQoKICAvLyBBbGwgZG9uZS4KICB5aWVsZCB7CiAgICByZXNwb25zZTogewogICAgICBhY3Rpb246ICdjb21wbGV0ZScsCiAgICB9CiAgfTsKfQoKc2NvcGUuZ29vZ2xlID0gc2NvcGUuZ29vZ2xlIHx8IHt9OwpzY29wZS5nb29nbGUuY29sYWIgPSBzY29wZS5nb29nbGUuY29sYWIgfHwge307CnNjb3BlLmdvb2dsZS5jb2xhYi5fZmlsZXMgPSB7CiAgX3VwbG9hZEZpbGVzLAogIF91cGxvYWRGaWxlc0NvbnRpbnVlLAp9Owp9KShzZWxmKTsK",
              "ok": true,
              "headers": [
                [
                  "content-type",
                  "application/javascript"
                ]
              ],
              "status": 200,
              "status_text": ""
            }
          },
          "base_uri": "https://localhost:8080/",
          "height": 73
        },
        "id": "2ZKN91mBnMr9",
        "outputId": "a4f292ab-a7ad-4573-e91f-e155e56a506a"
      },
      "source": [
        "from google.colab import files\r\n",
        "uploaded = files.upload()"
      ],
      "execution_count": 20,
      "outputs": [
        {
          "output_type": "display_data",
          "data": {
            "text/html": [
              "\n",
              "     <input type=\"file\" id=\"files-002644c0-ad4a-43ec-a997-9e5371904362\" name=\"files[]\" multiple disabled\n",
              "        style=\"border:none\" />\n",
              "     <output id=\"result-002644c0-ad4a-43ec-a997-9e5371904362\">\n",
              "      Upload widget is only available when the cell has been executed in the\n",
              "      current browser session. Please rerun this cell to enable.\n",
              "      </output>\n",
              "      <script src=\"/nbextensions/google.colab/files.js\"></script> "
            ],
            "text/plain": [
              "<IPython.core.display.HTML object>"
            ]
          },
          "metadata": {
            "tags": []
          }
        },
        {
          "output_type": "stream",
          "text": [
            "Saving intents.json to intents (1).json\n"
          ],
          "name": "stdout"
        }
      ]
    },
    {
      "cell_type": "code",
      "metadata": {
        "id": "gVcRivBgm8PF"
      },
      "source": [
        "words = []\r\n",
        "classes = []\r\n",
        "documents = []\r\n",
        "ignore_words = ['?', '!']\r\n",
        "data_file = open('intents.json').read()\r\n",
        "intents = json.loads(data_file)"
      ],
      "execution_count": 21,
      "outputs": []
    },
    {
      "cell_type": "code",
      "metadata": {
        "colab": {
          "base_uri": "https://localhost:8080/"
        },
        "id": "QSo6h9e6oGX2",
        "outputId": "62f1de1b-5ebb-4152-e553-999da1282491"
      },
      "source": [
        "nltk.download('punkt')"
      ],
      "execution_count": 22,
      "outputs": [
        {
          "output_type": "stream",
          "text": [
            "[nltk_data] Downloading package punkt to /root/nltk_data...\n",
            "[nltk_data]   Package punkt is already up-to-date!\n"
          ],
          "name": "stdout"
        },
        {
          "output_type": "execute_result",
          "data": {
            "text/plain": [
              "True"
            ]
          },
          "metadata": {
            "tags": []
          },
          "execution_count": 22
        }
      ]
    },
    {
      "cell_type": "markdown",
      "metadata": {
        "id": "BTfnlFxwrKBb"
      },
      "source": [
        "# 2. Preprocess data\r\n",
        "\r\n",
        "Preprocess the data first before making a machine learning model. Perform **tokenization** - it is the process of breaking the whole text into small parts (words).\r\n",
        "\r\n",
        "The following code iterates through the patterns in the intents.json file and tokenizes the sentence using nltk.word_tokenize() function and then appends eacch word in the words list.\r\n"
      ]
    },
    {
      "cell_type": "code",
      "metadata": {
        "id": "YgiOxg9NnCd3"
      },
      "source": [
        "for intent in intents['intents']:\r\n",
        "    for pattern in intent['patterns']:\r\n",
        "\r\n",
        "        #tokenize each word\r\n",
        "        w = nltk.word_tokenize(pattern)\r\n",
        "        words.extend(w)\r\n",
        "        #add documents in the corpus\r\n",
        "        documents.append((w, intent['tag']))\r\n",
        "\r\n",
        "        # add to our classes list\r\n",
        "        if intent['tag'] not in classes:\r\n",
        "            classes.append(intent['tag'])"
      ],
      "execution_count": 23,
      "outputs": []
    },
    {
      "cell_type": "code",
      "metadata": {
        "colab": {
          "base_uri": "https://localhost:8080/"
        },
        "id": "grMnxU2Hohls",
        "outputId": "612b2819-a837-4c9d-e1ba-5003b01fbc2a"
      },
      "source": [
        "nltk.download('wordnet')"
      ],
      "execution_count": 24,
      "outputs": [
        {
          "output_type": "stream",
          "text": [
            "[nltk_data] Downloading package wordnet to /root/nltk_data...\n",
            "[nltk_data]   Package wordnet is already up-to-date!\n"
          ],
          "name": "stdout"
        },
        {
          "output_type": "execute_result",
          "data": {
            "text/plain": [
              "True"
            ]
          },
          "metadata": {
            "tags": []
          },
          "execution_count": 24
        }
      ]
    },
    {
      "cell_type": "markdown",
      "metadata": {
        "id": "19tgIAC9sbqF"
      },
      "source": [
        "The following code lemmatize each word and removes duplicate words from the list. \r\n",
        "\r\n",
        "**Lemmatizing** is the process of converting a word into its lemma form and then creating a pickle file to store the Python objects which will be use in predicting. "
      ]
    },
    {
      "cell_type": "code",
      "metadata": {
        "colab": {
          "base_uri": "https://localhost:8080/"
        },
        "id": "Wd0Q7P4onrPs",
        "outputId": "653739a5-9304-4cd1-8ced-e1ea3b00172e"
      },
      "source": [
        "# lemmatize, lower each word and remove duplicates\r\n",
        "words = [lemmatizer.lemmatize(w.lower()) for w in words if w not in ignore_words]\r\n",
        "words = sorted(list(set(words)))\r\n",
        "\r\n",
        "# sort classes\r\n",
        "classes = sorted(list(set(classes)))\r\n",
        "# documents = combination between patterns and intents\r\n",
        "print (len(documents), \"documents\")\r\n",
        "# classes = intents\r\n",
        "print (len(classes), \"classes\", classes)\r\n",
        "# words = all words, vocabulary\r\n",
        "print (len(words), \"unique lemmatized words\", words)\r\n",
        "\r\n",
        "pickle.dump(words,open('words.pkl','wb'))\r\n",
        "pickle.dump(classes,open('classes.pkl','wb'))"
      ],
      "execution_count": 25,
      "outputs": [
        {
          "output_type": "stream",
          "text": [
            "11 documents\n",
            "3 classes ['goodbye', 'greeting', 'thanks']\n",
            "19 unique lemmatized words [\"'s\", 'anyone', 'are', 'bye', 'day', 'good', 'goodbye', 'hello', 'helpful', 'hi', 'how', 'is', 'later', 'see', 'thank', 'thanks', 'that', 'there', 'you']\n"
          ],
          "name": "stdout"
        }
      ]
    },
    {
      "cell_type": "markdown",
      "metadata": {
        "id": "x0q1-AF5tB1r"
      },
      "source": [
        "# 3. Create training data\r\n",
        "\r\n",
        "Create the training data in which we will provide the input and output - input will be the pattern, output will be the class (*tags* in the intents.json file) the input pattern belongs to. \r\n",
        "\r\n",
        "Since machine learning cannot directly work with categorical data, convert to numeric data."
      ]
    },
    {
      "cell_type": "code",
      "metadata": {
        "colab": {
          "base_uri": "https://localhost:8080/"
        },
        "id": "qk03vQpEoVXf",
        "outputId": "9795828a-8248-4964-c4a2-9892a58dc5c2"
      },
      "source": [
        "# create our training data\r\n",
        "training = []\r\n",
        "# create an empty array for our output\r\n",
        "output_empty = [0] * len(classes)\r\n",
        "# training set, bag of words for each sentence\r\n",
        "\r\n",
        "for doc in documents:\r\n",
        "    # initialize our bag of words\r\n",
        "    bag = []\r\n",
        "    # list of tokenized words for the pattern\r\n",
        "    pattern_words = doc[0]\r\n",
        "    # lemmatize each word - create base word, in attempt to represent related words\r\n",
        "    pattern_words = [lemmatizer.lemmatize(word.lower()) for word in pattern_words]\r\n",
        "    # create our bag of words array with 1, if word match found in current pattern\r\n",
        "    \r\n",
        "for w in words:\r\n",
        "    bag.append(1) if w in pattern_words else bag.append(0)\r\n",
        "\r\n",
        "    # output is a '0' for each tag and '1' for current tag (for each pattern)\r\n",
        "    output_row = list(output_empty)\r\n",
        "    output_row[classes.index(doc[1])] = 1\r\n",
        "\r\n",
        "    training.append([bag, output_row])\r\n",
        "\r\n",
        "# shuffle our features and turn into np.array\r\n",
        "random.shuffle(training)\r\n",
        "training = np.array(training)\r\n",
        "# create train and test lists. X - patterns, Y - intents\r\n",
        "train_x = list(training[:,0])\r\n",
        "train_y = list(training[:,1])\r\n",
        "print(\"Training data created\")"
      ],
      "execution_count": 26,
      "outputs": [
        {
          "output_type": "stream",
          "text": [
            "Training data created\n"
          ],
          "name": "stdout"
        },
        {
          "output_type": "stream",
          "text": [
            "/usr/local/lib/python3.6/dist-packages/ipykernel_launcher.py:27: VisibleDeprecationWarning: Creating an ndarray from ragged nested sequences (which is a list-or-tuple of lists-or-tuples-or ndarrays with different lengths or shapes) is deprecated. If you meant to do this, you must specify 'dtype=object' when creating the ndarray\n"
          ],
          "name": "stderr"
        }
      ]
    },
    {
      "cell_type": "markdown",
      "metadata": {
        "id": "Mr4CWEhxuxz4"
      },
      "source": [
        "# 4. Build machine learning model\r\n",
        "\r\n",
        "After creating training data, build a deep neaural network that has 3 layers. The following code uses Keras' sequential API. \r\n",
        "\r\n",
        "The model is trained for 200 epochs, achieving 100% accuracy on the model. \r\n"
      ]
    },
    {
      "cell_type": "code",
      "metadata": {
        "colab": {
          "base_uri": "https://localhost:8080/"
        },
        "id": "G07-sECzo9Fr",
        "outputId": "00915f13-1ecd-4078-c3f7-26b2afcf6dcc"
      },
      "source": [
        "# Create model - 3 layers. First layer 128 neurons, second layer 64 neurons and 3rd output layer contains number of neurons\r\n",
        "# equal to number of intents to predict output intent with softmax\r\n",
        "model = Sequential()\r\n",
        "model.add(Dense(128, input_shape=(len(train_x[0]),), activation='relu'))\r\n",
        "model.add(Dropout(0.5))\r\n",
        "model.add(Dense(64, activation='relu'))\r\n",
        "model.add(Dropout(0.5))\r\n",
        "model.add(Dense(len(train_y[0]), activation='softmax'))\r\n",
        "\r\n",
        "# Compile model. Stochastic gradient descent with Nesterov accelerated gradient gives good results for this model\r\n",
        "sgd = SGD(lr=0.01, decay=1e-6, momentum=0.9, nesterov=True)\r\n",
        "model.compile(loss='categorical_crossentropy', optimizer=sgd, metrics=['accuracy'])\r\n",
        "\r\n",
        "#fitting and saving the model \r\n",
        "hist = model.fit(np.array(train_x), np.array(train_y), epochs=200, batch_size=5, verbose=1)\r\n",
        "model.save('chatbot_model.h5', hist)\r\n",
        "\r\n",
        "print(\"model created\")"
      ],
      "execution_count": 27,
      "outputs": [
        {
          "output_type": "stream",
          "text": [
            "Epoch 1/200\n",
            "4/4 [==============================] - 1s 3ms/step - loss: 1.0285 - accuracy: 0.5393\n",
            "Epoch 2/200\n",
            "4/4 [==============================] - 0s 3ms/step - loss: 0.5962 - accuracy: 0.9456\n",
            "Epoch 3/200\n",
            "4/4 [==============================] - 0s 2ms/step - loss: 0.2307 - accuracy: 1.0000\n",
            "Epoch 4/200\n",
            "4/4 [==============================] - 0s 3ms/step - loss: 0.0958 - accuracy: 1.0000\n",
            "Epoch 5/200\n",
            "4/4 [==============================] - 0s 2ms/step - loss: 0.0555 - accuracy: 1.0000\n",
            "Epoch 6/200\n",
            "4/4 [==============================] - 0s 3ms/step - loss: 0.0131 - accuracy: 1.0000\n",
            "Epoch 7/200\n",
            "4/4 [==============================] - 0s 4ms/step - loss: 0.0175 - accuracy: 1.0000\n",
            "Epoch 8/200\n",
            "4/4 [==============================] - 0s 3ms/step - loss: 0.0069 - accuracy: 1.0000\n",
            "Epoch 9/200\n",
            "4/4 [==============================] - 0s 5ms/step - loss: 0.0046 - accuracy: 1.0000\n",
            "Epoch 10/200\n",
            "4/4 [==============================] - 0s 2ms/step - loss: 0.0014 - accuracy: 1.0000\n",
            "Epoch 11/200\n",
            "4/4 [==============================] - 0s 3ms/step - loss: 0.0042 - accuracy: 1.0000\n",
            "Epoch 12/200\n",
            "4/4 [==============================] - 0s 2ms/step - loss: 0.0032 - accuracy: 1.0000\n",
            "Epoch 13/200\n",
            "4/4 [==============================] - 0s 2ms/step - loss: 0.0238 - accuracy: 1.0000\n",
            "Epoch 14/200\n",
            "4/4 [==============================] - 0s 3ms/step - loss: 0.0063 - accuracy: 1.0000\n",
            "Epoch 15/200\n",
            "4/4 [==============================] - 0s 5ms/step - loss: 0.0017 - accuracy: 1.0000\n",
            "Epoch 16/200\n",
            "4/4 [==============================] - 0s 3ms/step - loss: 0.0020 - accuracy: 1.0000\n",
            "Epoch 17/200\n",
            "4/4 [==============================] - 0s 4ms/step - loss: 0.0054 - accuracy: 1.0000\n",
            "Epoch 18/200\n",
            "4/4 [==============================] - 0s 6ms/step - loss: 0.0017 - accuracy: 1.0000\n",
            "Epoch 19/200\n",
            "4/4 [==============================] - 0s 3ms/step - loss: 0.0011 - accuracy: 1.0000\n",
            "Epoch 20/200\n",
            "4/4 [==============================] - 0s 4ms/step - loss: 0.0038 - accuracy: 1.0000\n",
            "Epoch 21/200\n",
            "4/4 [==============================] - 0s 3ms/step - loss: 0.0019 - accuracy: 1.0000\n",
            "Epoch 22/200\n",
            "4/4 [==============================] - 0s 3ms/step - loss: 0.0021 - accuracy: 1.0000\n",
            "Epoch 23/200\n",
            "4/4 [==============================] - 0s 3ms/step - loss: 0.0021 - accuracy: 1.0000\n",
            "Epoch 24/200\n",
            "4/4 [==============================] - 0s 3ms/step - loss: 0.0039 - accuracy: 1.0000\n",
            "Epoch 25/200\n",
            "4/4 [==============================] - 0s 4ms/step - loss: 0.0048 - accuracy: 1.0000\n",
            "Epoch 26/200\n",
            "4/4 [==============================] - 0s 3ms/step - loss: 0.0050 - accuracy: 1.0000\n",
            "Epoch 27/200\n",
            "4/4 [==============================] - 0s 3ms/step - loss: 0.0015 - accuracy: 1.0000\n",
            "Epoch 28/200\n",
            "4/4 [==============================] - 0s 5ms/step - loss: 0.0012 - accuracy: 1.0000\n",
            "Epoch 29/200\n",
            "4/4 [==============================] - 0s 3ms/step - loss: 0.0088 - accuracy: 1.0000\n",
            "Epoch 30/200\n",
            "4/4 [==============================] - 0s 3ms/step - loss: 8.6277e-04 - accuracy: 1.0000\n",
            "Epoch 31/200\n",
            "4/4 [==============================] - 0s 4ms/step - loss: 6.2560e-04 - accuracy: 1.0000\n",
            "Epoch 32/200\n",
            "4/4 [==============================] - 0s 3ms/step - loss: 0.0026 - accuracy: 1.0000\n",
            "Epoch 33/200\n",
            "4/4 [==============================] - 0s 4ms/step - loss: 0.0016 - accuracy: 1.0000\n",
            "Epoch 34/200\n",
            "4/4 [==============================] - 0s 2ms/step - loss: 0.0028 - accuracy: 1.0000\n",
            "Epoch 35/200\n",
            "4/4 [==============================] - 0s 3ms/step - loss: 0.0017 - accuracy: 1.0000\n",
            "Epoch 36/200\n",
            "4/4 [==============================] - 0s 4ms/step - loss: 5.2621e-04 - accuracy: 1.0000\n",
            "Epoch 37/200\n",
            "4/4 [==============================] - 0s 4ms/step - loss: 0.0015 - accuracy: 1.0000\n",
            "Epoch 38/200\n",
            "4/4 [==============================] - 0s 4ms/step - loss: 6.0328e-04 - accuracy: 1.0000\n",
            "Epoch 39/200\n",
            "4/4 [==============================] - 0s 3ms/step - loss: 0.0016 - accuracy: 1.0000\n",
            "Epoch 40/200\n",
            "4/4 [==============================] - 0s 3ms/step - loss: 0.0011 - accuracy: 1.0000\n",
            "Epoch 41/200\n",
            "4/4 [==============================] - 0s 4ms/step - loss: 1.8878e-04 - accuracy: 1.0000\n",
            "Epoch 42/200\n",
            "4/4 [==============================] - 0s 4ms/step - loss: 9.6137e-04 - accuracy: 1.0000\n",
            "Epoch 43/200\n",
            "4/4 [==============================] - 0s 3ms/step - loss: 0.0013 - accuracy: 1.0000\n",
            "Epoch 44/200\n",
            "4/4 [==============================] - 0s 4ms/step - loss: 4.8039e-04 - accuracy: 1.0000\n",
            "Epoch 45/200\n",
            "4/4 [==============================] - 0s 3ms/step - loss: 7.9307e-04 - accuracy: 1.0000\n",
            "Epoch 46/200\n",
            "4/4 [==============================] - 0s 4ms/step - loss: 1.9831e-04 - accuracy: 1.0000\n",
            "Epoch 47/200\n",
            "4/4 [==============================] - 0s 3ms/step - loss: 0.0010 - accuracy: 1.0000\n",
            "Epoch 48/200\n",
            "4/4 [==============================] - 0s 3ms/step - loss: 3.1586e-04 - accuracy: 1.0000\n",
            "Epoch 49/200\n",
            "4/4 [==============================] - 0s 2ms/step - loss: 0.0116 - accuracy: 1.0000\n",
            "Epoch 50/200\n",
            "4/4 [==============================] - 0s 3ms/step - loss: 0.0012 - accuracy: 1.0000\n",
            "Epoch 51/200\n",
            "4/4 [==============================] - 0s 4ms/step - loss: 5.6514e-04 - accuracy: 1.0000\n",
            "Epoch 52/200\n",
            "4/4 [==============================] - 0s 3ms/step - loss: 0.0017 - accuracy: 1.0000\n",
            "Epoch 53/200\n",
            "4/4 [==============================] - 0s 3ms/step - loss: 0.0018 - accuracy: 1.0000\n",
            "Epoch 54/200\n",
            "4/4 [==============================] - 0s 3ms/step - loss: 7.3815e-04 - accuracy: 1.0000\n",
            "Epoch 55/200\n",
            "4/4 [==============================] - 0s 3ms/step - loss: 0.0013 - accuracy: 1.0000\n",
            "Epoch 56/200\n",
            "4/4 [==============================] - 0s 3ms/step - loss: 0.0038 - accuracy: 1.0000\n",
            "Epoch 57/200\n",
            "4/4 [==============================] - 0s 3ms/step - loss: 3.3222e-04 - accuracy: 1.0000\n",
            "Epoch 58/200\n",
            "4/4 [==============================] - 0s 6ms/step - loss: 0.0021 - accuracy: 1.0000\n",
            "Epoch 59/200\n",
            "4/4 [==============================] - 0s 4ms/step - loss: 3.8030e-04 - accuracy: 1.0000\n",
            "Epoch 60/200\n",
            "4/4 [==============================] - 0s 3ms/step - loss: 6.4482e-04 - accuracy: 1.0000\n",
            "Epoch 61/200\n",
            "4/4 [==============================] - 0s 3ms/step - loss: 4.7641e-04 - accuracy: 1.0000\n",
            "Epoch 62/200\n",
            "4/4 [==============================] - 0s 3ms/step - loss: 3.0221e-04 - accuracy: 1.0000\n",
            "Epoch 63/200\n",
            "4/4 [==============================] - 0s 3ms/step - loss: 3.6806e-04 - accuracy: 1.0000\n",
            "Epoch 64/200\n",
            "4/4 [==============================] - 0s 2ms/step - loss: 6.2122e-04 - accuracy: 1.0000\n",
            "Epoch 65/200\n",
            "4/4 [==============================] - 0s 2ms/step - loss: 0.0022 - accuracy: 1.0000\n",
            "Epoch 66/200\n",
            "4/4 [==============================] - 0s 2ms/step - loss: 0.0018 - accuracy: 1.0000\n",
            "Epoch 67/200\n",
            "4/4 [==============================] - 0s 2ms/step - loss: 0.0017 - accuracy: 1.0000\n",
            "Epoch 68/200\n",
            "4/4 [==============================] - 0s 4ms/step - loss: 8.1095e-04 - accuracy: 1.0000\n",
            "Epoch 69/200\n",
            "4/4 [==============================] - 0s 5ms/step - loss: 5.4757e-04 - accuracy: 1.0000\n",
            "Epoch 70/200\n",
            "4/4 [==============================] - 0s 2ms/step - loss: 8.3765e-04 - accuracy: 1.0000\n",
            "Epoch 71/200\n",
            "4/4 [==============================] - 0s 3ms/step - loss: 3.8630e-04 - accuracy: 1.0000\n",
            "Epoch 72/200\n",
            "4/4 [==============================] - 0s 2ms/step - loss: 0.0044 - accuracy: 1.0000\n",
            "Epoch 73/200\n",
            "4/4 [==============================] - 0s 3ms/step - loss: 7.5267e-04 - accuracy: 1.0000\n",
            "Epoch 74/200\n",
            "4/4 [==============================] - 0s 3ms/step - loss: 0.0023 - accuracy: 1.0000\n",
            "Epoch 75/200\n",
            "4/4 [==============================] - 0s 3ms/step - loss: 8.2792e-04 - accuracy: 1.0000\n",
            "Epoch 76/200\n",
            "4/4 [==============================] - 0s 3ms/step - loss: 3.2547e-04 - accuracy: 1.0000\n",
            "Epoch 77/200\n",
            "4/4 [==============================] - 0s 2ms/step - loss: 1.5433e-04 - accuracy: 1.0000\n",
            "Epoch 78/200\n",
            "4/4 [==============================] - 0s 3ms/step - loss: 5.6129e-04 - accuracy: 1.0000\n",
            "Epoch 79/200\n",
            "4/4 [==============================] - 0s 3ms/step - loss: 0.0016 - accuracy: 1.0000\n",
            "Epoch 80/200\n",
            "4/4 [==============================] - 0s 2ms/step - loss: 9.9641e-04 - accuracy: 1.0000\n",
            "Epoch 81/200\n",
            "4/4 [==============================] - 0s 4ms/step - loss: 2.3862e-04 - accuracy: 1.0000\n",
            "Epoch 82/200\n",
            "4/4 [==============================] - 0s 3ms/step - loss: 0.0097 - accuracy: 1.0000\n",
            "Epoch 83/200\n",
            "4/4 [==============================] - 0s 3ms/step - loss: 0.0022 - accuracy: 1.0000\n",
            "Epoch 84/200\n",
            "4/4 [==============================] - 0s 3ms/step - loss: 0.0040 - accuracy: 1.0000\n",
            "Epoch 85/200\n",
            "4/4 [==============================] - 0s 3ms/step - loss: 5.5525e-04 - accuracy: 1.0000\n",
            "Epoch 86/200\n",
            "4/4 [==============================] - 0s 3ms/step - loss: 2.6370e-04 - accuracy: 1.0000\n",
            "Epoch 87/200\n",
            "4/4 [==============================] - 0s 2ms/step - loss: 0.0020 - accuracy: 1.0000\n",
            "Epoch 88/200\n",
            "4/4 [==============================] - 0s 3ms/step - loss: 5.6856e-04 - accuracy: 1.0000\n",
            "Epoch 89/200\n",
            "4/4 [==============================] - 0s 3ms/step - loss: 5.2577e-04 - accuracy: 1.0000\n",
            "Epoch 90/200\n",
            "4/4 [==============================] - 0s 5ms/step - loss: 3.7256e-04 - accuracy: 1.0000\n",
            "Epoch 91/200\n",
            "4/4 [==============================] - 0s 4ms/step - loss: 9.3765e-04 - accuracy: 1.0000\n",
            "Epoch 92/200\n",
            "4/4 [==============================] - 0s 4ms/step - loss: 0.0020 - accuracy: 1.0000\n",
            "Epoch 93/200\n",
            "4/4 [==============================] - 0s 4ms/step - loss: 3.1075e-04 - accuracy: 1.0000\n",
            "Epoch 94/200\n",
            "4/4 [==============================] - 0s 3ms/step - loss: 1.8621e-04 - accuracy: 1.0000\n",
            "Epoch 95/200\n",
            "4/4 [==============================] - 0s 4ms/step - loss: 5.4937e-04 - accuracy: 1.0000\n",
            "Epoch 96/200\n",
            "4/4 [==============================] - 0s 4ms/step - loss: 9.0444e-04 - accuracy: 1.0000\n",
            "Epoch 97/200\n",
            "4/4 [==============================] - 0s 3ms/step - loss: 0.0025 - accuracy: 1.0000\n",
            "Epoch 98/200\n",
            "4/4 [==============================] - 0s 3ms/step - loss: 0.0012 - accuracy: 1.0000\n",
            "Epoch 99/200\n",
            "4/4 [==============================] - 0s 2ms/step - loss: 0.0038 - accuracy: 1.0000\n",
            "Epoch 100/200\n",
            "4/4 [==============================] - 0s 3ms/step - loss: 0.0029 - accuracy: 1.0000\n",
            "Epoch 101/200\n",
            "4/4 [==============================] - 0s 3ms/step - loss: 1.5128e-04 - accuracy: 1.0000\n",
            "Epoch 102/200\n",
            "4/4 [==============================] - 0s 2ms/step - loss: 2.0184e-04 - accuracy: 1.0000\n",
            "Epoch 103/200\n",
            "4/4 [==============================] - 0s 3ms/step - loss: 8.3426e-04 - accuracy: 1.0000\n",
            "Epoch 104/200\n",
            "4/4 [==============================] - 0s 3ms/step - loss: 2.0719e-04 - accuracy: 1.0000\n",
            "Epoch 105/200\n",
            "4/4 [==============================] - 0s 3ms/step - loss: 3.8774e-04 - accuracy: 1.0000\n",
            "Epoch 106/200\n",
            "4/4 [==============================] - 0s 3ms/step - loss: 5.2546e-04 - accuracy: 1.0000\n",
            "Epoch 107/200\n",
            "4/4 [==============================] - 0s 3ms/step - loss: 6.7794e-04 - accuracy: 1.0000\n",
            "Epoch 108/200\n",
            "4/4 [==============================] - 0s 3ms/step - loss: 3.2935e-04 - accuracy: 1.0000\n",
            "Epoch 109/200\n",
            "4/4 [==============================] - 0s 3ms/step - loss: 3.2379e-04 - accuracy: 1.0000\n",
            "Epoch 110/200\n",
            "4/4 [==============================] - 0s 4ms/step - loss: 4.4020e-04 - accuracy: 1.0000\n",
            "Epoch 111/200\n",
            "4/4 [==============================] - 0s 2ms/step - loss: 3.3357e-04 - accuracy: 1.0000\n",
            "Epoch 112/200\n",
            "4/4 [==============================] - 0s 4ms/step - loss: 2.6429e-04 - accuracy: 1.0000\n",
            "Epoch 113/200\n",
            "4/4 [==============================] - 0s 3ms/step - loss: 7.4685e-04 - accuracy: 1.0000\n",
            "Epoch 114/200\n",
            "4/4 [==============================] - 0s 3ms/step - loss: 1.8013e-04 - accuracy: 1.0000\n",
            "Epoch 115/200\n",
            "4/4 [==============================] - 0s 2ms/step - loss: 1.5903e-04 - accuracy: 1.0000\n",
            "Epoch 116/200\n",
            "4/4 [==============================] - 0s 3ms/step - loss: 0.0014 - accuracy: 1.0000\n",
            "Epoch 117/200\n",
            "4/4 [==============================] - 0s 4ms/step - loss: 2.6457e-04 - accuracy: 1.0000\n",
            "Epoch 118/200\n",
            "4/4 [==============================] - 0s 2ms/step - loss: 4.9863e-04 - accuracy: 1.0000\n",
            "Epoch 119/200\n",
            "4/4 [==============================] - 0s 3ms/step - loss: 3.3497e-04 - accuracy: 1.0000\n",
            "Epoch 120/200\n",
            "4/4 [==============================] - 0s 3ms/step - loss: 4.0597e-04 - accuracy: 1.0000\n",
            "Epoch 121/200\n",
            "4/4 [==============================] - 0s 4ms/step - loss: 2.2102e-04 - accuracy: 1.0000\n",
            "Epoch 122/200\n",
            "4/4 [==============================] - 0s 4ms/step - loss: 1.1002e-04 - accuracy: 1.0000\n",
            "Epoch 123/200\n",
            "4/4 [==============================] - 0s 4ms/step - loss: 7.4943e-04 - accuracy: 1.0000\n",
            "Epoch 124/200\n",
            "4/4 [==============================] - 0s 2ms/step - loss: 2.1474e-04 - accuracy: 1.0000\n",
            "Epoch 125/200\n",
            "4/4 [==============================] - 0s 5ms/step - loss: 4.8297e-04 - accuracy: 1.0000\n",
            "Epoch 126/200\n",
            "4/4 [==============================] - 0s 5ms/step - loss: 1.4286e-04 - accuracy: 1.0000\n",
            "Epoch 127/200\n",
            "4/4 [==============================] - 0s 4ms/step - loss: 3.6081e-04 - accuracy: 1.0000\n",
            "Epoch 128/200\n",
            "4/4 [==============================] - 0s 5ms/step - loss: 9.6983e-05 - accuracy: 1.0000\n",
            "Epoch 129/200\n",
            "4/4 [==============================] - 0s 4ms/step - loss: 1.5650e-04 - accuracy: 1.0000\n",
            "Epoch 130/200\n",
            "4/4 [==============================] - 0s 3ms/step - loss: 0.0059 - accuracy: 1.0000\n",
            "Epoch 131/200\n",
            "4/4 [==============================] - 0s 4ms/step - loss: 9.6639e-04 - accuracy: 1.0000\n",
            "Epoch 132/200\n",
            "4/4 [==============================] - 0s 3ms/step - loss: 0.0016 - accuracy: 1.0000\n",
            "Epoch 133/200\n",
            "4/4 [==============================] - 0s 4ms/step - loss: 1.6336e-05 - accuracy: 1.0000\n",
            "Epoch 134/200\n",
            "4/4 [==============================] - 0s 3ms/step - loss: 5.0898e-05 - accuracy: 1.0000\n",
            "Epoch 135/200\n",
            "4/4 [==============================] - 0s 2ms/step - loss: 5.2464e-04 - accuracy: 1.0000\n",
            "Epoch 136/200\n",
            "4/4 [==============================] - 0s 4ms/step - loss: 9.1535e-05 - accuracy: 1.0000\n",
            "Epoch 137/200\n",
            "4/4 [==============================] - 0s 3ms/step - loss: 0.0013 - accuracy: 1.0000\n",
            "Epoch 138/200\n",
            "4/4 [==============================] - 0s 3ms/step - loss: 9.5165e-04 - accuracy: 1.0000\n",
            "Epoch 139/200\n",
            "4/4 [==============================] - 0s 3ms/step - loss: 4.2239e-04 - accuracy: 1.0000\n",
            "Epoch 140/200\n",
            "4/4 [==============================] - 0s 4ms/step - loss: 0.0011 - accuracy: 1.0000\n",
            "Epoch 141/200\n",
            "4/4 [==============================] - 0s 3ms/step - loss: 8.3767e-04 - accuracy: 1.0000\n",
            "Epoch 142/200\n",
            "4/4 [==============================] - 0s 4ms/step - loss: 3.1252e-04 - accuracy: 1.0000\n",
            "Epoch 143/200\n",
            "4/4 [==============================] - 0s 3ms/step - loss: 5.0702e-04 - accuracy: 1.0000\n",
            "Epoch 144/200\n",
            "4/4 [==============================] - 0s 4ms/step - loss: 2.1002e-05 - accuracy: 1.0000\n",
            "Epoch 145/200\n",
            "4/4 [==============================] - 0s 3ms/step - loss: 0.0016 - accuracy: 1.0000\n",
            "Epoch 146/200\n",
            "4/4 [==============================] - 0s 2ms/step - loss: 9.7127e-05 - accuracy: 1.0000\n",
            "Epoch 147/200\n",
            "4/4 [==============================] - 0s 3ms/step - loss: 2.0138e-04 - accuracy: 1.0000\n",
            "Epoch 148/200\n",
            "4/4 [==============================] - 0s 3ms/step - loss: 2.4101e-04 - accuracy: 1.0000\n",
            "Epoch 149/200\n",
            "4/4 [==============================] - 0s 3ms/step - loss: 2.4264e-04 - accuracy: 1.0000\n",
            "Epoch 150/200\n",
            "4/4 [==============================] - 0s 3ms/step - loss: 5.6818e-04 - accuracy: 1.0000\n",
            "Epoch 151/200\n",
            "4/4 [==============================] - 0s 3ms/step - loss: 0.0011 - accuracy: 1.0000\n",
            "Epoch 152/200\n",
            "4/4 [==============================] - 0s 3ms/step - loss: 1.6982e-04 - accuracy: 1.0000\n",
            "Epoch 153/200\n",
            "4/4 [==============================] - 0s 4ms/step - loss: 0.0028 - accuracy: 1.0000\n",
            "Epoch 154/200\n",
            "4/4 [==============================] - 0s 5ms/step - loss: 9.2100e-04 - accuracy: 1.0000\n",
            "Epoch 155/200\n",
            "4/4 [==============================] - 0s 4ms/step - loss: 7.5371e-05 - accuracy: 1.0000\n",
            "Epoch 156/200\n",
            "4/4 [==============================] - 0s 4ms/step - loss: 1.0017e-04 - accuracy: 1.0000\n",
            "Epoch 157/200\n",
            "4/4 [==============================] - 0s 3ms/step - loss: 1.4313e-04 - accuracy: 1.0000\n",
            "Epoch 158/200\n",
            "4/4 [==============================] - 0s 3ms/step - loss: 6.3835e-04 - accuracy: 1.0000\n",
            "Epoch 159/200\n",
            "4/4 [==============================] - 0s 3ms/step - loss: 7.8710e-05 - accuracy: 1.0000\n",
            "Epoch 160/200\n",
            "4/4 [==============================] - 0s 3ms/step - loss: 1.5297e-04 - accuracy: 1.0000\n",
            "Epoch 161/200\n",
            "4/4 [==============================] - 0s 3ms/step - loss: 2.6164e-04 - accuracy: 1.0000\n",
            "Epoch 162/200\n",
            "4/4 [==============================] - 0s 2ms/step - loss: 5.3268e-04 - accuracy: 1.0000\n",
            "Epoch 163/200\n",
            "4/4 [==============================] - 0s 3ms/step - loss: 3.3244e-04 - accuracy: 1.0000\n",
            "Epoch 164/200\n",
            "4/4 [==============================] - 0s 5ms/step - loss: 2.0024e-04 - accuracy: 1.0000\n",
            "Epoch 165/200\n",
            "4/4 [==============================] - 0s 4ms/step - loss: 4.2601e-04 - accuracy: 1.0000\n",
            "Epoch 166/200\n",
            "4/4 [==============================] - 0s 3ms/step - loss: 4.0457e-04 - accuracy: 1.0000\n",
            "Epoch 167/200\n",
            "4/4 [==============================] - 0s 2ms/step - loss: 1.1939e-04 - accuracy: 1.0000\n",
            "Epoch 168/200\n",
            "4/4 [==============================] - 0s 4ms/step - loss: 4.6670e-04 - accuracy: 1.0000\n",
            "Epoch 169/200\n",
            "4/4 [==============================] - 0s 3ms/step - loss: 2.0520e-04 - accuracy: 1.0000\n",
            "Epoch 170/200\n",
            "4/4 [==============================] - 0s 4ms/step - loss: 7.4943e-05 - accuracy: 1.0000\n",
            "Epoch 171/200\n",
            "4/4 [==============================] - 0s 7ms/step - loss: 7.0701e-05 - accuracy: 1.0000\n",
            "Epoch 172/200\n",
            "4/4 [==============================] - 0s 3ms/step - loss: 0.0021 - accuracy: 1.0000\n",
            "Epoch 173/200\n",
            "4/4 [==============================] - 0s 3ms/step - loss: 2.2605e-04 - accuracy: 1.0000\n",
            "Epoch 174/200\n",
            "4/4 [==============================] - 0s 3ms/step - loss: 3.3027e-05 - accuracy: 1.0000\n",
            "Epoch 175/200\n",
            "4/4 [==============================] - 0s 3ms/step - loss: 2.2009e-04 - accuracy: 1.0000\n",
            "Epoch 176/200\n",
            "4/4 [==============================] - 0s 3ms/step - loss: 7.7027e-04 - accuracy: 1.0000\n",
            "Epoch 177/200\n",
            "4/4 [==============================] - 0s 3ms/step - loss: 4.1166e-04 - accuracy: 1.0000\n",
            "Epoch 178/200\n",
            "4/4 [==============================] - 0s 4ms/step - loss: 2.4470e-05 - accuracy: 1.0000\n",
            "Epoch 179/200\n",
            "4/4 [==============================] - 0s 3ms/step - loss: 1.9452e-04 - accuracy: 1.0000\n",
            "Epoch 180/200\n",
            "4/4 [==============================] - 0s 3ms/step - loss: 3.4445e-05 - accuracy: 1.0000\n",
            "Epoch 181/200\n",
            "4/4 [==============================] - 0s 4ms/step - loss: 1.0030e-04 - accuracy: 1.0000\n",
            "Epoch 182/200\n",
            "4/4 [==============================] - 0s 4ms/step - loss: 6.2026e-04 - accuracy: 1.0000\n",
            "Epoch 183/200\n",
            "4/4 [==============================] - 0s 4ms/step - loss: 9.0561e-04 - accuracy: 1.0000\n",
            "Epoch 184/200\n",
            "4/4 [==============================] - 0s 3ms/step - loss: 1.0902e-04 - accuracy: 1.0000\n",
            "Epoch 185/200\n",
            "4/4 [==============================] - 0s 5ms/step - loss: 0.0018 - accuracy: 1.0000\n",
            "Epoch 186/200\n",
            "4/4 [==============================] - 0s 3ms/step - loss: 3.2113e-04 - accuracy: 1.0000\n",
            "Epoch 187/200\n",
            "4/4 [==============================] - 0s 3ms/step - loss: 7.8415e-04 - accuracy: 1.0000\n",
            "Epoch 188/200\n",
            "4/4 [==============================] - 0s 3ms/step - loss: 4.1115e-04 - accuracy: 1.0000\n",
            "Epoch 189/200\n",
            "4/4 [==============================] - 0s 3ms/step - loss: 9.2994e-05 - accuracy: 1.0000\n",
            "Epoch 190/200\n",
            "4/4 [==============================] - 0s 2ms/step - loss: 0.0020 - accuracy: 1.0000\n",
            "Epoch 191/200\n",
            "4/4 [==============================] - 0s 3ms/step - loss: 2.8944e-04 - accuracy: 1.0000\n",
            "Epoch 192/200\n",
            "4/4 [==============================] - 0s 3ms/step - loss: 9.4050e-05 - accuracy: 1.0000\n",
            "Epoch 193/200\n",
            "4/4 [==============================] - 0s 3ms/step - loss: 5.7768e-05 - accuracy: 1.0000\n",
            "Epoch 194/200\n",
            "4/4 [==============================] - 0s 3ms/step - loss: 3.8281e-04 - accuracy: 1.0000\n",
            "Epoch 195/200\n",
            "4/4 [==============================] - 0s 3ms/step - loss: 9.4829e-05 - accuracy: 1.0000\n",
            "Epoch 196/200\n",
            "4/4 [==============================] - 0s 3ms/step - loss: 2.7989e-05 - accuracy: 1.0000\n",
            "Epoch 197/200\n",
            "4/4 [==============================] - 0s 3ms/step - loss: 3.0650e-04 - accuracy: 1.0000\n",
            "Epoch 198/200\n",
            "4/4 [==============================] - 0s 2ms/step - loss: 1.2467e-04 - accuracy: 1.0000\n",
            "Epoch 199/200\n",
            "4/4 [==============================] - 0s 3ms/step - loss: 7.3415e-04 - accuracy: 1.0000\n",
            "Epoch 200/200\n",
            "4/4 [==============================] - 0s 3ms/step - loss: 1.6171e-04 - accuracy: 1.0000\n",
            "model created\n"
          ],
          "name": "stdout"
        }
      ]
    },
    {
      "cell_type": "markdown",
      "metadata": {
        "id": "WOhriHvjpPG8"
      },
      "source": [
        "# 5. Predicting sentences and getting a response from the user\r\n",
        "\r\n",
        "loaded the trained model saved as *chatbot_model.h5* on the previous cell.\r\n",
        "\r\n",
        "The model trained (so far) will only tell the class the response of the bot belongs to, so implement some functions that'll identify the class and then retrieve a random response from the list of responses provided in the intents.json. \r\n",
        "\r\n",
        "Import necessary package:\r\n",
        "\r\n",
        "* from keras.models import load_model\r\n",
        "\r\n"
      ]
    },
    {
      "cell_type": "code",
      "metadata": {
        "id": "fEGTqKtAnCcJ"
      },
      "source": [
        "from keras.models import load_model\r\n",
        "model = load_model('chatbot_model.h5')\r\n",
        "\r\n",
        "intents = json.loads(open('intents.json').read())\r\n",
        "words = pickle.load(open('words.pkl','rb'))\r\n",
        "classes = pickle.load(open('classes.pkl','rb'))"
      ],
      "execution_count": 28,
      "outputs": []
    },
    {
      "cell_type": "markdown",
      "metadata": {
        "id": "NTV3_KgnweQF"
      },
      "source": [
        "The following functions will perform text preprocessing and then predicts the class."
      ]
    },
    {
      "cell_type": "code",
      "metadata": {
        "id": "eA8BizN4oiKz"
      },
      "source": [
        "def clean_up_sentence(sentence):\r\n",
        "    # tokenize the pattern - split words into array\r\n",
        "    sentence_words = nltk.word_tokenize(sentence)\r\n",
        "    \r\n",
        "    # stem each word - create short form for word\r\n",
        "    sentence_words = [lemmatizer.lemmatize(word.lower()) for word in sentence_words]\r\n",
        "    return sentence_words\r\n",
        "\r\n",
        "# return bag of words array: 0 or 1 for each word in the bag that exists in the sentence"
      ],
      "execution_count": 29,
      "outputs": []
    },
    {
      "cell_type": "code",
      "metadata": {
        "id": "zyxH_nK2orRT"
      },
      "source": [
        "def bow(sentence, words, show_details=True):\r\n",
        "    # tokenize the pattern\r\n",
        "    sentence_words = clean_up_sentence(sentence)\r\n",
        "    # bag of words - matrix of N words, vocabulary matrix\r\n",
        "    bag = [0]*len(words) \r\n",
        "    for s in sentence_words:\r\n",
        "        for i,w in enumerate(words):\r\n",
        "            if w == s: \r\n",
        "                # assign 1 if current word is in the vocabulary position\r\n",
        "                bag[i] = 1\r\n",
        "                if show_details:\r\n",
        "                    print (\"found in bag: %s\" % w)\r\n",
        "    return(np.array(bag))"
      ],
      "execution_count": 30,
      "outputs": []
    },
    {
      "cell_type": "code",
      "metadata": {
        "id": "uIB1JJ-touIG"
      },
      "source": [
        "def predict_class(sentence, model):\r\n",
        "    # filter out predictions below a threshold\r\n",
        "    p = bow(sentence, words,show_details=False)\r\n",
        "    res = model.predict(np.array([p]))[0]\r\n",
        "    ERROR_THRESHOLD = 0.25\r\n",
        "    results = [[i,r] for i,r in enumerate(res) if r>ERROR_THRESHOLD]\r\n",
        "    \r\n",
        "    # sort by strength of probability\r\n",
        "    results.sort(key=lambda x: x[1], reverse=True)\r\n",
        "    return_list = []\r\n",
        "    for r in results:\r\n",
        "        return_list.append({\"intent\": classes[r[0]], \"probability\": str(r[1])})\r\n",
        "    return return_list"
      ],
      "execution_count": 31,
      "outputs": []
    },
    {
      "cell_type": "markdown",
      "metadata": {
        "id": "klrdVqxuw0bg"
      },
      "source": [
        "The following functions will get a random response from the list of intents."
      ]
    },
    {
      "cell_type": "code",
      "metadata": {
        "id": "M5afsE0yowfR"
      },
      "source": [
        "def getResponse(ints, intents_json):\r\n",
        "    tag = ints[0]['intent']\r\n",
        "    list_of_intents = intents_json['intents']\r\n",
        "    for i in list_of_intents:\r\n",
        "        if(i['tag']== tag):\r\n",
        "            result = random.choice(i['responses'])\r\n",
        "            break\r\n",
        "    return result"
      ],
      "execution_count": 32,
      "outputs": []
    },
    {
      "cell_type": "code",
      "metadata": {
        "id": "uHsL15wtozu4"
      },
      "source": [
        "def chatbot_response(text):\r\n",
        "    ints = predict_class(text, model)\r\n",
        "    res = getResponse(ints, intents)\r\n",
        "    return res"
      ],
      "execution_count": 33,
      "outputs": []
    },
    {
      "cell_type": "code",
      "metadata": {
        "id": "P9qnawngo11n"
      },
      "source": [
        ""
      ],
      "execution_count": 33,
      "outputs": []
    }
  ]
}